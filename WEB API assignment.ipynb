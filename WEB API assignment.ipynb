{
 "cells": [
  {
   "cell_type": "markdown",
   "id": "d01f8010-ab56-4e02-8573-e537c4418bd8",
   "metadata": {},
   "source": [
    "ques1_what is an API? Give an example,where an API is used in real life."
   ]
  },
  {
   "cell_type": "markdown",
   "id": "fcdce6a8-1e35-40eb-b424-c11f2ee62ddb",
   "metadata": {},
   "source": [
    "API(Application Programming Interface) is a communication between two application,it can make with a help of different protocol.API is the acronym for application programming interface — a software intermediary that allows two applications to talk to each other.\n",
    "\n",
    "In everyday life, APIs power various experiences, from social media interactions to real-time weather data access. Public API examples include social media bots, third-party login, e-commerce transactions, and weather apps."
   ]
  },
  {
   "cell_type": "markdown",
   "id": "f75b8b5f-7a9f-47b1-800e-e262a424a9f8",
   "metadata": {},
   "source": [
    "ques2_give advantages & disadvatanges of using API"
   ]
  },
  {
   "cell_type": "markdown",
   "id": "75ecea5c-bb21-434d-a102-1f6c4b95cc67",
   "metadata": {},
   "source": [
    "Advantages:\n",
    "\n",
    "Increased Interoperability: API solutions enable different software systems to communicate with each other, regardless of their programming language or platform. This enhances the interoperability between systems, allowing for the exchange of data and functionality.\n",
    "\n",
    "Improved Efficiency: API driven infrastructures enable developers to reuse code and functionality from existing software systems, saving time and reducing the amount of code that needs to be written from scratch.\n",
    "\n",
    "Better User Experience: APIs can enable third-party developers to create applications that integrate with existing software systems, providing a better user experience and increased functionality.\n",
    "\n",
    "Increased Flexibility: APIs provide developers with greater flexibility, enabling them to choose the best programming languages and frameworks for their needs.\n",
    "\n",
    "New Revenue Streams: APIs can enable companies to create new revenue streams by providing third-party developers with access to their software systems.\n",
    "\n",
    "\n",
    "Disadvantages:\n",
    "Security Concerns: API infrastructures can be vulnerable to security breaches, such as SQL injection attacks and cross-site scripting (XSS) attacks, making it crucial to implement security measures to protect against these threats.\n",
    "\n",
    "Complexity: APIs can be complex, requiring a significant amount of development effort to implement and maintain.\n",
    "Compatibility Issues: APIs can have compatibility issues between different versions of the same software system or between different systems, which can lead to errors and system failures.\n",
    "\n",
    "Dependency on Third-Party Developers: APIs rely on third-party developers to create applications that integrate with the software system. This can create dependencies that are outside of the control of the company that owns the software system.\n",
    "\n",
    "Governance and Management: APIs require proper governance and management to ensure they are being used correctly and consistently across different applications and systems."
   ]
  },
  {
   "cell_type": "markdown",
   "id": "55a75bc9-e116-4065-a595-078215e66f4b",
   "metadata": {},
   "source": [
    "ques3_ what is a Web API? differentiate between API and WEB API."
   ]
  },
  {
   "cell_type": "markdown",
   "id": "1ad9c47f-e504-4d20-99b0-5b99f5e87bab",
   "metadata": {},
   "source": [
    "A web API is an application programming interface for either a web server or a web browser. As a web development concept, it can be related to a web application's client side.\n",
    "\n",
    "different between API & WEB API:\n",
    "1)API is a set of rules which can communicate a different different system,it can help of different protocol.Whereas WEB API is a category/subset of API.\n",
    "\n",
    "2)API does not require a network to connect software applications.But WEB API does require a network connection for software application.\n",
    "\n",
    "3)Many types of APIs,allowing a varied range of control from limited oversight to strict access requirements.But in API only available to approved users providing greater control over data access,how the service is used and its functions.\n",
    "\n",
    "4)Lightweight architecture options across varied protocols in API.Not a lightweight architecture as it most commonly follows the SOAP protocols and is code heavy.\n",
    "\n",
    "5)Data transfer in API via XML or JSON.Data transfer in WEB API via XML only.\n",
    "\n",
    "6)api = TCP/IP , HTTP , HTTPs\n",
    "  web api = HTTP, gmail authentiation , google search."
   ]
  },
  {
   "cell_type": "markdown",
   "id": "c89659e5-0d36-42fa-b8c0-4e4c75e04d94",
   "metadata": {},
   "source": [
    "ques4_Explain REST & SOAP architecture.Mention shortcomings of SOAP."
   ]
  },
  {
   "cell_type": "markdown",
   "id": "b566b8eb-2ef6-4a07-a0ad-dc64b9fbc36b",
   "metadata": {},
   "source": [
    "REST (Representational state transfer) is a software architectural style that was created to guide the design and development of the architecture for the World Wide Web. REST defines a set of constraints for how the architecture of an Internet-scale distributed hypermedia system, such as the Web, should behave. The REST architectural style emphasises the scalability of interactions between components, uniform interfaces, independent deployment of components, and the creation of a layered architecture to facilitate caching of components to reduce user-perceived latency, enforce security, and encapsulate legacy systems.\n",
    "\n",
    "SOAP (Simple Object Access Protocol) is a message protocol that enables the distributed elements of an application to communicate. SOAP can be carried over a variety of standard protocols, including the web-related Hypertext Transfer Protocol (HTTP).\n",
    "\n",
    "shortcomings of SOAP: Soaps do not wash well in hard water and does not form much lather or foam. The calcium magnesium or iron ions of hard water form an insoluble sticky grey coloured precipitate called scum which restricts the cleansing action of soap and makes washing more difficult."
   ]
  },
  {
   "cell_type": "markdown",
   "id": "e6ca65d4-4e08-495d-bc02-b739ff88904b",
   "metadata": {},
   "source": [
    "ques5_differentiate between REST & SOAP."
   ]
  },
  {
   "cell_type": "markdown",
   "id": "3dc64018-6eaf-4cae-8427-e0a4ceef83c0",
   "metadata": {},
   "source": [
    "There is no direct comparison between SOAP and REST APIs. But there are some points to be listed below which makes you choose better between these two web services. Here are: \n",
    "\n",
    "1)SOAP stands for Simple Object Access Protocol and REST stands for Representational State Transfer.\n",
    "Since SOAP is a protocol, it follows a strict standard to allow communication between the client and the server whereas REST is an architectural style that doesn’t follow any strict standard but follows six constraints defined by Roy Fielding in 2000. Those constraints are – Uniform Interface, Client-Server, Stateless, Cacheable, Layered System, Code on Demand.\n",
    "\n",
    "2)SOAP uses only XML for exchanging information in its message format whereas REST is not restricted to XML and its the choice of implementer which Media-Type to use like XML, JSON, Plain-text. Moreover, REST can use SOAP protocol but SOAP cannot use REST.\n",
    "\n",
    "3)On behalf of services interfaces to business logic, SOAP uses @WebService whereas REST instead of using interfaces uses URI like @Path\n",
    ".\n",
    "4)SOAP is difficult to implement and it requires more bandwidth whereas REST is easy to implement and requires less bandwidth such as smartphones.\n",
    "\n",
    "5)Benefits of SOAP over REST as SOAP has ACID compliance transaction. Some of the applications require transaction ability which is accepted by SOAP whereas REST lacks in it.\n",
    "\n",
    "6)On the basis of Security, SOAP has SSL( Secure Socket Layer) and WS-security whereas REST has SSL and HTTPS. In the case of Bank Account Password, Card Number, etc. SOAP is preferred over REST. The security issue is all about your application requirement, you have to build security on your own. It’s about what type of protocol you use.\n",
    "SOAP cannot make use of REST since SOAP is a protocol without any architectural pattern. REST can make use of SOAP because it is an architectural pattern having protocol."
   ]
  }
 ],
 "metadata": {
  "kernelspec": {
   "display_name": "Python 3 (ipykernel)",
   "language": "python",
   "name": "python3"
  },
  "language_info": {
   "codemirror_mode": {
    "name": "ipython",
    "version": 3
   },
   "file_extension": ".py",
   "mimetype": "text/x-python",
   "name": "python",
   "nbconvert_exporter": "python",
   "pygments_lexer": "ipython3",
   "version": "3.10.8"
  }
 },
 "nbformat": 4,
 "nbformat_minor": 5
}
